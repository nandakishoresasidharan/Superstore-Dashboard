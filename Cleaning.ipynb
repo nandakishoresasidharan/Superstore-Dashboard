{
 "cells": [
  {
   "cell_type": "code",
   "execution_count": 1,
   "id": "708df65d-aab5-4b97-a0aa-64ea8aa1f4ae",
   "metadata": {},
   "outputs": [],
   "source": [
    "import pandas as pd"
   ]
  },
  {
   "cell_type": "code",
   "execution_count": 2,
   "id": "fbfb64a8-5aae-4d82-8230-ae52baa3f488",
   "metadata": {},
   "outputs": [],
   "source": [
    "df = pd.read_csv('Superstore_raw.csv', encoding = 'windows-1252')\n",
    "df.to_csv('Superstore_raw(utf-8).csv', index = False, encoding = 'utf-8')"
   ]
  },
  {
   "cell_type": "code",
   "execution_count": 3,
   "id": "36cc7951-3dd2-4b02-80e6-977ed1797ad6",
   "metadata": {},
   "outputs": [],
   "source": [
    "df = pd.read_csv('Superstore_raw(utf-8).csv')"
   ]
  },
  {
   "cell_type": "code",
   "execution_count": 4,
   "id": "a858e78d-cf5a-4d25-9020-1175fea5a298",
   "metadata": {},
   "outputs": [
    {
     "data": {
      "text/html": [
       "<div>\n",
       "<style scoped>\n",
       "    .dataframe tbody tr th:only-of-type {\n",
       "        vertical-align: middle;\n",
       "    }\n",
       "\n",
       "    .dataframe tbody tr th {\n",
       "        vertical-align: top;\n",
       "    }\n",
       "\n",
       "    .dataframe thead th {\n",
       "        text-align: right;\n",
       "    }\n",
       "</style>\n",
       "<table border=\"1\" class=\"dataframe\">\n",
       "  <thead>\n",
       "    <tr style=\"text-align: right;\">\n",
       "      <th></th>\n",
       "      <th>Row ID</th>\n",
       "      <th>Order ID</th>\n",
       "      <th>Order Date</th>\n",
       "      <th>Ship Date</th>\n",
       "      <th>Ship Mode</th>\n",
       "      <th>Customer ID</th>\n",
       "      <th>Customer Name</th>\n",
       "      <th>Segment</th>\n",
       "      <th>Country</th>\n",
       "      <th>City</th>\n",
       "      <th>...</th>\n",
       "      <th>Postal Code</th>\n",
       "      <th>Region</th>\n",
       "      <th>Product ID</th>\n",
       "      <th>Category</th>\n",
       "      <th>Sub-Category</th>\n",
       "      <th>Product Name</th>\n",
       "      <th>Sales</th>\n",
       "      <th>Quantity</th>\n",
       "      <th>Discount</th>\n",
       "      <th>Profit</th>\n",
       "    </tr>\n",
       "  </thead>\n",
       "  <tbody>\n",
       "    <tr>\n",
       "      <th>0</th>\n",
       "      <td>1</td>\n",
       "      <td>CA-2016-152156</td>\n",
       "      <td>11/8/2016</td>\n",
       "      <td>11/11/2016</td>\n",
       "      <td>Second Class</td>\n",
       "      <td>CG-12520</td>\n",
       "      <td>Claire Gute</td>\n",
       "      <td>Consumer</td>\n",
       "      <td>United States</td>\n",
       "      <td>Henderson</td>\n",
       "      <td>...</td>\n",
       "      <td>42420</td>\n",
       "      <td>South</td>\n",
       "      <td>FUR-BO-10001798</td>\n",
       "      <td>Furniture</td>\n",
       "      <td>Bookcases</td>\n",
       "      <td>Bush Somerset Collection Bookcase</td>\n",
       "      <td>261.9600</td>\n",
       "      <td>2</td>\n",
       "      <td>0.00</td>\n",
       "      <td>41.9136</td>\n",
       "    </tr>\n",
       "    <tr>\n",
       "      <th>1</th>\n",
       "      <td>2</td>\n",
       "      <td>CA-2016-152156</td>\n",
       "      <td>11/8/2016</td>\n",
       "      <td>11/11/2016</td>\n",
       "      <td>Second Class</td>\n",
       "      <td>CG-12520</td>\n",
       "      <td>Claire Gute</td>\n",
       "      <td>Consumer</td>\n",
       "      <td>United States</td>\n",
       "      <td>Henderson</td>\n",
       "      <td>...</td>\n",
       "      <td>42420</td>\n",
       "      <td>South</td>\n",
       "      <td>FUR-CH-10000454</td>\n",
       "      <td>Furniture</td>\n",
       "      <td>Chairs</td>\n",
       "      <td>Hon Deluxe Fabric Upholstered Stacking Chairs,...</td>\n",
       "      <td>731.9400</td>\n",
       "      <td>3</td>\n",
       "      <td>0.00</td>\n",
       "      <td>219.5820</td>\n",
       "    </tr>\n",
       "    <tr>\n",
       "      <th>2</th>\n",
       "      <td>3</td>\n",
       "      <td>CA-2016-138688</td>\n",
       "      <td>6/12/2016</td>\n",
       "      <td>6/16/2016</td>\n",
       "      <td>Second Class</td>\n",
       "      <td>DV-13045</td>\n",
       "      <td>Darrin Van Huff</td>\n",
       "      <td>Corporate</td>\n",
       "      <td>United States</td>\n",
       "      <td>Los Angeles</td>\n",
       "      <td>...</td>\n",
       "      <td>90036</td>\n",
       "      <td>West</td>\n",
       "      <td>OFF-LA-10000240</td>\n",
       "      <td>Office Supplies</td>\n",
       "      <td>Labels</td>\n",
       "      <td>Self-Adhesive Address Labels for Typewriters b...</td>\n",
       "      <td>14.6200</td>\n",
       "      <td>2</td>\n",
       "      <td>0.00</td>\n",
       "      <td>6.8714</td>\n",
       "    </tr>\n",
       "    <tr>\n",
       "      <th>3</th>\n",
       "      <td>4</td>\n",
       "      <td>US-2015-108966</td>\n",
       "      <td>10/11/2015</td>\n",
       "      <td>10/18/2015</td>\n",
       "      <td>Standard Class</td>\n",
       "      <td>SO-20335</td>\n",
       "      <td>Sean O'Donnell</td>\n",
       "      <td>Consumer</td>\n",
       "      <td>United States</td>\n",
       "      <td>Fort Lauderdale</td>\n",
       "      <td>...</td>\n",
       "      <td>33311</td>\n",
       "      <td>South</td>\n",
       "      <td>FUR-TA-10000577</td>\n",
       "      <td>Furniture</td>\n",
       "      <td>Tables</td>\n",
       "      <td>Bretford CR4500 Series Slim Rectangular Table</td>\n",
       "      <td>957.5775</td>\n",
       "      <td>5</td>\n",
       "      <td>0.45</td>\n",
       "      <td>-383.0310</td>\n",
       "    </tr>\n",
       "    <tr>\n",
       "      <th>4</th>\n",
       "      <td>5</td>\n",
       "      <td>US-2015-108966</td>\n",
       "      <td>10/11/2015</td>\n",
       "      <td>10/18/2015</td>\n",
       "      <td>Standard Class</td>\n",
       "      <td>SO-20335</td>\n",
       "      <td>Sean O'Donnell</td>\n",
       "      <td>Consumer</td>\n",
       "      <td>United States</td>\n",
       "      <td>Fort Lauderdale</td>\n",
       "      <td>...</td>\n",
       "      <td>33311</td>\n",
       "      <td>South</td>\n",
       "      <td>OFF-ST-10000760</td>\n",
       "      <td>Office Supplies</td>\n",
       "      <td>Storage</td>\n",
       "      <td>Eldon Fold 'N Roll Cart System</td>\n",
       "      <td>22.3680</td>\n",
       "      <td>2</td>\n",
       "      <td>0.20</td>\n",
       "      <td>2.5164</td>\n",
       "    </tr>\n",
       "  </tbody>\n",
       "</table>\n",
       "<p>5 rows × 21 columns</p>\n",
       "</div>"
      ],
      "text/plain": [
       "   Row ID        Order ID  Order Date   Ship Date       Ship Mode Customer ID  \\\n",
       "0       1  CA-2016-152156   11/8/2016  11/11/2016    Second Class    CG-12520   \n",
       "1       2  CA-2016-152156   11/8/2016  11/11/2016    Second Class    CG-12520   \n",
       "2       3  CA-2016-138688   6/12/2016   6/16/2016    Second Class    DV-13045   \n",
       "3       4  US-2015-108966  10/11/2015  10/18/2015  Standard Class    SO-20335   \n",
       "4       5  US-2015-108966  10/11/2015  10/18/2015  Standard Class    SO-20335   \n",
       "\n",
       "     Customer Name    Segment        Country             City  ...  \\\n",
       "0      Claire Gute   Consumer  United States        Henderson  ...   \n",
       "1      Claire Gute   Consumer  United States        Henderson  ...   \n",
       "2  Darrin Van Huff  Corporate  United States      Los Angeles  ...   \n",
       "3   Sean O'Donnell   Consumer  United States  Fort Lauderdale  ...   \n",
       "4   Sean O'Donnell   Consumer  United States  Fort Lauderdale  ...   \n",
       "\n",
       "  Postal Code  Region       Product ID         Category Sub-Category  \\\n",
       "0       42420   South  FUR-BO-10001798        Furniture    Bookcases   \n",
       "1       42420   South  FUR-CH-10000454        Furniture       Chairs   \n",
       "2       90036    West  OFF-LA-10000240  Office Supplies       Labels   \n",
       "3       33311   South  FUR-TA-10000577        Furniture       Tables   \n",
       "4       33311   South  OFF-ST-10000760  Office Supplies      Storage   \n",
       "\n",
       "                                        Product Name     Sales  Quantity  \\\n",
       "0                  Bush Somerset Collection Bookcase  261.9600         2   \n",
       "1  Hon Deluxe Fabric Upholstered Stacking Chairs,...  731.9400         3   \n",
       "2  Self-Adhesive Address Labels for Typewriters b...   14.6200         2   \n",
       "3      Bretford CR4500 Series Slim Rectangular Table  957.5775         5   \n",
       "4                     Eldon Fold 'N Roll Cart System   22.3680         2   \n",
       "\n",
       "   Discount    Profit  \n",
       "0      0.00   41.9136  \n",
       "1      0.00  219.5820  \n",
       "2      0.00    6.8714  \n",
       "3      0.45 -383.0310  \n",
       "4      0.20    2.5164  \n",
       "\n",
       "[5 rows x 21 columns]"
      ]
     },
     "execution_count": 4,
     "metadata": {},
     "output_type": "execute_result"
    }
   ],
   "source": [
    "df.head()"
   ]
  },
  {
   "cell_type": "code",
   "execution_count": 5,
   "id": "5380c5ea-e888-47d0-bd5a-ed9851c6d17e",
   "metadata": {},
   "outputs": [
    {
     "data": {
      "text/plain": [
       "Index(['Row ID', 'Order ID', 'Order Date', 'Ship Date', 'Ship Mode',\n",
       "       'Customer ID', 'Customer Name', 'Segment', 'Country', 'City', 'State',\n",
       "       'Postal Code', 'Region', 'Product ID', 'Category', 'Sub-Category',\n",
       "       'Product Name', 'Sales', 'Quantity', 'Discount', 'Profit'],\n",
       "      dtype='object')"
      ]
     },
     "execution_count": 5,
     "metadata": {},
     "output_type": "execute_result"
    }
   ],
   "source": [
    "df.columns"
   ]
  },
  {
   "cell_type": "code",
   "execution_count": 6,
   "id": "aeb15142-fae3-46f5-9946-494cbbcff85c",
   "metadata": {},
   "outputs": [
    {
     "name": "stdout",
     "output_type": "stream",
     "text": [
      "<class 'pandas.core.frame.DataFrame'>\n",
      "RangeIndex: 9994 entries, 0 to 9993\n",
      "Data columns (total 21 columns):\n",
      " #   Column         Non-Null Count  Dtype  \n",
      "---  ------         --------------  -----  \n",
      " 0   Row ID         9994 non-null   int64  \n",
      " 1   Order ID       9994 non-null   object \n",
      " 2   Order Date     9994 non-null   object \n",
      " 3   Ship Date      9994 non-null   object \n",
      " 4   Ship Mode      9994 non-null   object \n",
      " 5   Customer ID    9994 non-null   object \n",
      " 6   Customer Name  9994 non-null   object \n",
      " 7   Segment        9994 non-null   object \n",
      " 8   Country        9994 non-null   object \n",
      " 9   City           9994 non-null   object \n",
      " 10  State          9994 non-null   object \n",
      " 11  Postal Code    9994 non-null   int64  \n",
      " 12  Region         9994 non-null   object \n",
      " 13  Product ID     9994 non-null   object \n",
      " 14  Category       9994 non-null   object \n",
      " 15  Sub-Category   9994 non-null   object \n",
      " 16  Product Name   9994 non-null   object \n",
      " 17  Sales          9994 non-null   float64\n",
      " 18  Quantity       9994 non-null   int64  \n",
      " 19  Discount       9994 non-null   float64\n",
      " 20  Profit         9994 non-null   float64\n",
      "dtypes: float64(3), int64(3), object(15)\n",
      "memory usage: 1.6+ MB\n"
     ]
    }
   ],
   "source": [
    "df.info()"
   ]
  },
  {
   "cell_type": "code",
   "execution_count": 7,
   "id": "e7e985e2-0199-41c8-b654-763f76b5af27",
   "metadata": {},
   "outputs": [],
   "source": [
    "df['Order Date'] = pd.to_datetime(df['Order Date'])\n",
    "df['Ship Date'] = pd.to_datetime(df['Ship Date'])"
   ]
  },
  {
   "cell_type": "code",
   "execution_count": 8,
   "id": "6afdee6e-595c-4090-99ca-fd0e4a0be000",
   "metadata": {},
   "outputs": [],
   "source": [
    "df['Shipping Days'] = (df['Ship Date'] - df['Order Date']).dt.days"
   ]
  },
  {
   "cell_type": "code",
   "execution_count": 9,
   "id": "0be9ce6a-f8ba-45c7-b9ce-ed28e0d49acf",
   "metadata": {},
   "outputs": [
    {
     "name": "stdout",
     "output_type": "stream",
     "text": [
      "<class 'pandas.core.frame.DataFrame'>\n",
      "RangeIndex: 9994 entries, 0 to 9993\n",
      "Data columns (total 22 columns):\n",
      " #   Column         Non-Null Count  Dtype         \n",
      "---  ------         --------------  -----         \n",
      " 0   Row ID         9994 non-null   int64         \n",
      " 1   Order ID       9994 non-null   object        \n",
      " 2   Order Date     9994 non-null   datetime64[ns]\n",
      " 3   Ship Date      9994 non-null   datetime64[ns]\n",
      " 4   Ship Mode      9994 non-null   object        \n",
      " 5   Customer ID    9994 non-null   object        \n",
      " 6   Customer Name  9994 non-null   object        \n",
      " 7   Segment        9994 non-null   object        \n",
      " 8   Country        9994 non-null   object        \n",
      " 9   City           9994 non-null   object        \n",
      " 10  State          9994 non-null   object        \n",
      " 11  Postal Code    9994 non-null   int64         \n",
      " 12  Region         9994 non-null   object        \n",
      " 13  Product ID     9994 non-null   object        \n",
      " 14  Category       9994 non-null   object        \n",
      " 15  Sub-Category   9994 non-null   object        \n",
      " 16  Product Name   9994 non-null   object        \n",
      " 17  Sales          9994 non-null   float64       \n",
      " 18  Quantity       9994 non-null   int64         \n",
      " 19  Discount       9994 non-null   float64       \n",
      " 20  Profit         9994 non-null   float64       \n",
      " 21  Shipping Days  9994 non-null   int64         \n",
      "dtypes: datetime64[ns](2), float64(3), int64(4), object(13)\n",
      "memory usage: 1.7+ MB\n"
     ]
    }
   ],
   "source": [
    "df.info()"
   ]
  },
  {
   "cell_type": "code",
   "execution_count": 10,
   "id": "25ace60e-88af-4f1c-a270-342d4afe2110",
   "metadata": {},
   "outputs": [],
   "source": [
    "df['Gross Revenue'] = df['Sales']/(1 - df['Discount'])\n",
    "df['Profit Margin'] = df['Profit']/df['Sales']"
   ]
  },
  {
   "cell_type": "code",
   "execution_count": 11,
   "id": "34a679bb-e197-4611-aa5e-4825e9f6246d",
   "metadata": {},
   "outputs": [
    {
     "data": {
      "text/html": [
       "<div>\n",
       "<style scoped>\n",
       "    .dataframe tbody tr th:only-of-type {\n",
       "        vertical-align: middle;\n",
       "    }\n",
       "\n",
       "    .dataframe tbody tr th {\n",
       "        vertical-align: top;\n",
       "    }\n",
       "\n",
       "    .dataframe thead th {\n",
       "        text-align: right;\n",
       "    }\n",
       "</style>\n",
       "<table border=\"1\" class=\"dataframe\">\n",
       "  <thead>\n",
       "    <tr style=\"text-align: right;\">\n",
       "      <th></th>\n",
       "      <th>Row ID</th>\n",
       "      <th>Order Date</th>\n",
       "      <th>Ship Date</th>\n",
       "      <th>Postal Code</th>\n",
       "      <th>Sales</th>\n",
       "      <th>Quantity</th>\n",
       "      <th>Discount</th>\n",
       "      <th>Profit</th>\n",
       "      <th>Shipping Days</th>\n",
       "      <th>Gross Revenue</th>\n",
       "      <th>Profit Margin</th>\n",
       "    </tr>\n",
       "  </thead>\n",
       "  <tbody>\n",
       "    <tr>\n",
       "      <th>count</th>\n",
       "      <td>9994.000000</td>\n",
       "      <td>9994</td>\n",
       "      <td>9994</td>\n",
       "      <td>9994.000000</td>\n",
       "      <td>9994.000000</td>\n",
       "      <td>9994.000000</td>\n",
       "      <td>9994.000000</td>\n",
       "      <td>9994.000000</td>\n",
       "      <td>9994.000000</td>\n",
       "      <td>9994.000000</td>\n",
       "      <td>9994.000000</td>\n",
       "    </tr>\n",
       "    <tr>\n",
       "      <th>mean</th>\n",
       "      <td>4997.500000</td>\n",
       "      <td>2016-04-30 00:07:12.259355648</td>\n",
       "      <td>2016-05-03 23:06:58.571142912</td>\n",
       "      <td>55190.379428</td>\n",
       "      <td>229.858001</td>\n",
       "      <td>3.789574</td>\n",
       "      <td>0.156203</td>\n",
       "      <td>28.656896</td>\n",
       "      <td>3.958175</td>\n",
       "      <td>286.565443</td>\n",
       "      <td>0.120314</td>\n",
       "    </tr>\n",
       "    <tr>\n",
       "      <th>min</th>\n",
       "      <td>1.000000</td>\n",
       "      <td>2014-01-03 00:00:00</td>\n",
       "      <td>2014-01-07 00:00:00</td>\n",
       "      <td>1040.000000</td>\n",
       "      <td>0.444000</td>\n",
       "      <td>1.000000</td>\n",
       "      <td>0.000000</td>\n",
       "      <td>-6599.978000</td>\n",
       "      <td>0.000000</td>\n",
       "      <td>0.990000</td>\n",
       "      <td>-2.750000</td>\n",
       "    </tr>\n",
       "    <tr>\n",
       "      <th>25%</th>\n",
       "      <td>2499.250000</td>\n",
       "      <td>2015-05-23 00:00:00</td>\n",
       "      <td>2015-05-27 00:00:00</td>\n",
       "      <td>23223.000000</td>\n",
       "      <td>17.280000</td>\n",
       "      <td>2.000000</td>\n",
       "      <td>0.000000</td>\n",
       "      <td>1.728750</td>\n",
       "      <td>3.000000</td>\n",
       "      <td>21.360000</td>\n",
       "      <td>0.075000</td>\n",
       "    </tr>\n",
       "    <tr>\n",
       "      <th>50%</th>\n",
       "      <td>4997.500000</td>\n",
       "      <td>2016-06-26 00:00:00</td>\n",
       "      <td>2016-06-29 00:00:00</td>\n",
       "      <td>56430.500000</td>\n",
       "      <td>54.490000</td>\n",
       "      <td>3.000000</td>\n",
       "      <td>0.200000</td>\n",
       "      <td>8.666500</td>\n",
       "      <td>4.000000</td>\n",
       "      <td>64.960000</td>\n",
       "      <td>0.270000</td>\n",
       "    </tr>\n",
       "    <tr>\n",
       "      <th>75%</th>\n",
       "      <td>7495.750000</td>\n",
       "      <td>2017-05-14 00:00:00</td>\n",
       "      <td>2017-05-18 00:00:00</td>\n",
       "      <td>90008.000000</td>\n",
       "      <td>209.940000</td>\n",
       "      <td>5.000000</td>\n",
       "      <td>0.200000</td>\n",
       "      <td>29.364000</td>\n",
       "      <td>5.000000</td>\n",
       "      <td>251.910000</td>\n",
       "      <td>0.362500</td>\n",
       "    </tr>\n",
       "    <tr>\n",
       "      <th>max</th>\n",
       "      <td>9994.000000</td>\n",
       "      <td>2017-12-30 00:00:00</td>\n",
       "      <td>2018-01-05 00:00:00</td>\n",
       "      <td>99301.000000</td>\n",
       "      <td>22638.480000</td>\n",
       "      <td>14.000000</td>\n",
       "      <td>0.800000</td>\n",
       "      <td>8399.976000</td>\n",
       "      <td>7.000000</td>\n",
       "      <td>45276.960000</td>\n",
       "      <td>0.500000</td>\n",
       "    </tr>\n",
       "    <tr>\n",
       "      <th>std</th>\n",
       "      <td>2885.163629</td>\n",
       "      <td>NaN</td>\n",
       "      <td>NaN</td>\n",
       "      <td>32063.693350</td>\n",
       "      <td>623.245101</td>\n",
       "      <td>2.225110</td>\n",
       "      <td>0.206452</td>\n",
       "      <td>234.260108</td>\n",
       "      <td>1.747567</td>\n",
       "      <td>864.095772</td>\n",
       "      <td>0.466754</td>\n",
       "    </tr>\n",
       "  </tbody>\n",
       "</table>\n",
       "</div>"
      ],
      "text/plain": [
       "            Row ID                     Order Date  \\\n",
       "count  9994.000000                           9994   \n",
       "mean   4997.500000  2016-04-30 00:07:12.259355648   \n",
       "min       1.000000            2014-01-03 00:00:00   \n",
       "25%    2499.250000            2015-05-23 00:00:00   \n",
       "50%    4997.500000            2016-06-26 00:00:00   \n",
       "75%    7495.750000            2017-05-14 00:00:00   \n",
       "max    9994.000000            2017-12-30 00:00:00   \n",
       "std    2885.163629                            NaN   \n",
       "\n",
       "                           Ship Date   Postal Code         Sales     Quantity  \\\n",
       "count                           9994   9994.000000   9994.000000  9994.000000   \n",
       "mean   2016-05-03 23:06:58.571142912  55190.379428    229.858001     3.789574   \n",
       "min              2014-01-07 00:00:00   1040.000000      0.444000     1.000000   \n",
       "25%              2015-05-27 00:00:00  23223.000000     17.280000     2.000000   \n",
       "50%              2016-06-29 00:00:00  56430.500000     54.490000     3.000000   \n",
       "75%              2017-05-18 00:00:00  90008.000000    209.940000     5.000000   \n",
       "max              2018-01-05 00:00:00  99301.000000  22638.480000    14.000000   \n",
       "std                              NaN  32063.693350    623.245101     2.225110   \n",
       "\n",
       "          Discount       Profit  Shipping Days  Gross Revenue  Profit Margin  \n",
       "count  9994.000000  9994.000000    9994.000000    9994.000000    9994.000000  \n",
       "mean      0.156203    28.656896       3.958175     286.565443       0.120314  \n",
       "min       0.000000 -6599.978000       0.000000       0.990000      -2.750000  \n",
       "25%       0.000000     1.728750       3.000000      21.360000       0.075000  \n",
       "50%       0.200000     8.666500       4.000000      64.960000       0.270000  \n",
       "75%       0.200000    29.364000       5.000000     251.910000       0.362500  \n",
       "max       0.800000  8399.976000       7.000000   45276.960000       0.500000  \n",
       "std       0.206452   234.260108       1.747567     864.095772       0.466754  "
      ]
     },
     "execution_count": 11,
     "metadata": {},
     "output_type": "execute_result"
    }
   ],
   "source": [
    "df.describe()"
   ]
  },
  {
   "cell_type": "code",
   "execution_count": 12,
   "id": "cf4a8a2e-22e7-4e09-8cfd-72898e1d215c",
   "metadata": {},
   "outputs": [
    {
     "data": {
      "text/plain": [
       "Row ID           0\n",
       "Order ID         0\n",
       "Order Date       0\n",
       "Ship Date        0\n",
       "Ship Mode        0\n",
       "Customer ID      0\n",
       "Customer Name    0\n",
       "Segment          0\n",
       "Country          0\n",
       "City             0\n",
       "State            0\n",
       "Postal Code      0\n",
       "Region           0\n",
       "Product ID       0\n",
       "Category         0\n",
       "Sub-Category     0\n",
       "Product Name     0\n",
       "Sales            0\n",
       "Quantity         0\n",
       "Discount         0\n",
       "Profit           0\n",
       "Shipping Days    0\n",
       "Gross Revenue    0\n",
       "Profit Margin    0\n",
       "dtype: int64"
      ]
     },
     "execution_count": 12,
     "metadata": {},
     "output_type": "execute_result"
    }
   ],
   "source": [
    "df.isna().sum()"
   ]
  },
  {
   "cell_type": "code",
   "execution_count": 13,
   "id": "e74eaf2d-e397-4519-9c16-4800fcdc6513",
   "metadata": {},
   "outputs": [
    {
     "data": {
      "text/plain": [
       "9994"
      ]
     },
     "execution_count": 13,
     "metadata": {},
     "output_type": "execute_result"
    }
   ],
   "source": [
    "df['Row ID'].nunique()"
   ]
  },
  {
   "cell_type": "code",
   "execution_count": 14,
   "id": "c383e5d8-947a-423a-aceb-6dc9a7d78593",
   "metadata": {},
   "outputs": [
    {
     "name": "stdout",
     "output_type": "stream",
     "text": [
      "Order ID: 9994\n",
      "Ship Mode: 9994\n",
      "Customer ID: 9951\n",
      "Customer Name: 9648\n",
      "Segment: 9994\n",
      "Country: 9994\n",
      "City: 9994\n",
      "State: 9984\n",
      "Region: 9994\n",
      "Product ID: 9994\n",
      "Category: 9994\n",
      "Sub-Category: 9994\n",
      "Product Name: 5407\n"
     ]
    }
   ],
   "source": [
    "print(f\"Order ID: {df['Order ID'].str.isupper().sum()}\")\n",
    "print(f\"Ship Mode: {df['Ship Mode'].str.istitle().sum()}\")\n",
    "print(f\"Customer ID: {df['Customer ID'].str.isupper().sum()}\")\n",
    "print(f\"Customer Name: {df['Customer Name'].str.istitle().sum()}\")\n",
    "print(f\"Segment: {df['Segment'].str.istitle().sum()}\")\n",
    "print(f\"Country: {df['Country'].str.istitle().sum()}\")\n",
    "print(f\"City: {df['City'].str.istitle().sum()}\")\n",
    "print(f\"State: {df['State'].str.istitle().sum()}\")\n",
    "print(f\"Region: {df['Region'].str.istitle().sum()}\")\n",
    "print(f\"Product ID: {df['Product ID'].str.isupper().sum()}\")\n",
    "print(f\"Category: {df['Category'].str.istitle().sum()}\")\n",
    "print(f\"Sub-Category: {df['Sub-Category'].str.istitle().sum()}\")\n",
    "print(f\"Product Name: {df['Product Name'].str.istitle().sum()}\")"
   ]
  },
  {
   "cell_type": "code",
   "execution_count": 15,
   "id": "9d73dc9c-6109-441e-821c-84889c54e68c",
   "metadata": {},
   "outputs": [
    {
     "name": "stdout",
     "output_type": "stream",
     "text": [
      "Customer ID\n",
      "Dp-13240    29\n",
      "Co-12640     8\n",
      "Dl-13600     6\n",
      "Name: count, dtype: int64\n"
     ]
    }
   ],
   "source": [
    "print(df[df['Customer ID'].str.isupper() == False]['Customer ID'].value_counts())"
   ]
  },
  {
   "cell_type": "code",
   "execution_count": 16,
   "id": "b18c1077-3a65-4e8a-9ca9-d495bc5de71f",
   "metadata": {},
   "outputs": [],
   "source": [
    "df['Customer ID'] = df['Customer ID'].str.upper()"
   ]
  },
  {
   "cell_type": "code",
   "execution_count": 17,
   "id": "ebcda8e2-b48c-4679-80ff-5d4b5385b556",
   "metadata": {},
   "outputs": [
    {
     "name": "stdout",
     "output_type": "stream",
     "text": [
      "Customer Name\n",
      "Dean percer               29\n",
      "Anne McFarland            22\n",
      "Suzanne McNair            22\n",
      "Justin MacKendrick        19\n",
      "Natalie DeCherney         18\n",
      "Ross DeVincentis          16\n",
      "Maris LaWare              15\n",
      "Filia McAdams             15\n",
      "Fred McMath               14\n",
      "Christina DeMoss          13\n",
      "Gene McClure              13\n",
      "Christina VanderZanden    13\n",
      "Muhammed MacIntyre        12\n",
      "Alice McCarthy            12\n",
      "Gary McGarr               11\n",
      "Candace McMahon           10\n",
      "Chris McAfee               8\n",
      "Brian DeCherney            8\n",
      "Eleni McCrary              7\n",
      "MaryBeth Skach             7\n",
      "Henry MacAllister          7\n",
      "Chad McGuire               7\n",
      "Lisa DeCherney             7\n",
      "Charles McCrossin          7\n",
      "Peter McVee                7\n",
      "Liz MacKendrick            7\n",
      "Dorris liebe               6\n",
      "Susan MacKendrick          6\n",
      "Paul MacIntyre             4\n",
      "Ionia McGrath              4\n",
      "Name: count, dtype: int64\n"
     ]
    }
   ],
   "source": [
    "print(df[df['Customer Name'].str.istitle() == False]['Customer Name'].value_counts())"
   ]
  },
  {
   "cell_type": "code",
   "execution_count": 18,
   "id": "537679b4-70bd-4472-84ee-af70250a144c",
   "metadata": {},
   "outputs": [],
   "source": [
    "df['Customer Name'] = df['Customer Name'].replace({'Dean percer' : 'Dean Percer', 'Dorris liebe' : 'Dorris Liebe'})"
   ]
  },
  {
   "cell_type": "code",
   "execution_count": 19,
   "id": "015c8f14-2b27-45af-b665-e08b997a98b4",
   "metadata": {},
   "outputs": [
    {
     "name": "stdout",
     "output_type": "stream",
     "text": [
      "State\n",
      "District of Columbia    10\n",
      "Name: count, dtype: int64\n"
     ]
    }
   ],
   "source": [
    "print(df[df['State'].str.istitle() == False]['State'].value_counts())"
   ]
  },
  {
   "cell_type": "code",
   "execution_count": 20,
   "id": "978e1514-0670-4377-a1c8-24f124b15f0e",
   "metadata": {},
   "outputs": [
    {
     "name": "stdout",
     "output_type": "stream",
     "text": [
      "Product Name\n",
      "Staple envelope                                                              48\n",
      "Easy-staple paper                                                            46\n",
      "Staples in misc. colors                                                      19\n",
      "Staple remover                                                               18\n",
      "KI Adjustable-Height Table                                                   18\n",
      "                                                                             ..\n",
      "Canon imageCLASS MF7460 Monochrome Digital Laser Multifunction Copier         1\n",
      "RCA ViSYS 25423RE1 Corded phone                                               1\n",
      "Belkin 8 Outlet SurgeMaster II Gold Surge Protector with Phone Protection     1\n",
      "Logitech Illuminated Ultrathin Keyboard with Backlighting                     1\n",
      "Eldon Jumbo ProFile Portable File Boxes Graphite/Black                        1\n",
      "Name: count, Length: 847, dtype: int64\n"
     ]
    }
   ],
   "source": [
    "print(df[df['Product Name'].str.istitle() == False]['Product Name'].value_counts())"
   ]
  },
  {
   "cell_type": "code",
   "execution_count": 21,
   "id": "c4aadd77-2c41-4fc0-a006-faa794ef68be",
   "metadata": {},
   "outputs": [],
   "source": [
    "df['Product Name'] = df['Product Name'].str.title()"
   ]
  },
  {
   "cell_type": "code",
   "execution_count": 22,
   "id": "fa3b39ba-9927-4bc0-a568-c60c39ba7bfb",
   "metadata": {},
   "outputs": [
    {
     "name": "stdout",
     "output_type": "stream",
     "text": [
      "Product Name\n",
      "#10- 4 1/8\" X 9 1/2\" Recycled Envelopes                         [OFF-EN-10000461, OFF-EN-10000781]\n",
      "Avery Non-Stick Binders                                         [OFF-BI-10004140, OFF-BI-10000829]\n",
      "Easy-Staple Paper                                [OFF-PA-10000249, OFF-PA-10000474, OFF-PA-1000...\n",
      "Eldon Wave Desk Accessories                                     [FUR-FU-10000023, FUR-FU-10003981]\n",
      "Ki Adjustable-Height Table                                      [FUR-TA-10004086, FUR-TA-10001039]\n",
      "Okidata C610N Printer                                           [TEC-MA-10003230, TEC-MA-10001856]\n",
      "Peel & Seel Recycled Catalog Envelopes, Brown                   [OFF-EN-10003448, OFF-EN-10002592]\n",
      "Prang Drawing Pencil Set                                        [OFF-AR-10003251, OFF-AR-10002766]\n",
      "Staple Envelope                                  [OFF-EN-10001990, OFF-EN-10001415, OFF-EN-1000...\n",
      "Staple Holder                                    [OFF-AP-10004249, OFF-AP-10002222, OFF-AP-1000...\n",
      "Staple Magnet                                                   [OFF-ST-10003221, OFF-ST-10002562]\n",
      "Staple Remover                                   [OFF-SU-10001225, OFF-SU-10001935, OFF-SU-1000...\n",
      "Staple-Based Wall Hangings                                      [FUR-FU-10004351, FUR-FU-10001940]\n",
      "Staples                                          [OFF-FA-10002780, OFF-FA-10002815, OFF-FA-1000...\n",
      "Staples In Misc. Colors                          [OFF-AR-10001166, OFF-AR-10004790, OFF-AR-1000...\n",
      "Storex Dura Pro Binders                                         [OFF-BI-10001922, OFF-BI-10004364]\n",
      "Name: Product ID, dtype: object\n"
     ]
    }
   ],
   "source": [
    "product_check = df.groupby('Product Name')['Product ID'].unique()\n",
    "not_unique = product_check[product_check.apply(len)>1]\n",
    "print(not_unique)"
   ]
  },
  {
   "cell_type": "code",
   "execution_count": 23,
   "id": "ff78add3-b3c6-41f2-870a-37016dde1872",
   "metadata": {},
   "outputs": [],
   "source": [
    "product_map = (df.groupby('Product Name')['Product ID'].agg(lambda x: x.value_counts().index[0]).to_dict())\n",
    "df['Product ID'] = df['Product Name'].map(product_map)"
   ]
  },
  {
   "cell_type": "code",
   "execution_count": 24,
   "id": "501a5320-599a-4512-8f48-ba0d27c1ab80",
   "metadata": {},
   "outputs": [
    {
     "data": {
      "text/plain": [
       "Series([], Name: Product ID, dtype: int64)"
      ]
     },
     "execution_count": 24,
     "metadata": {},
     "output_type": "execute_result"
    }
   ],
   "source": [
    "product_check2 = df.groupby('Product Name')['Product ID'].nunique()\n",
    "product_check2[product_check2>1]"
   ]
  },
  {
   "cell_type": "code",
   "execution_count": 25,
   "id": "a38de5df-394b-4230-9c6f-fd85022fc509",
   "metadata": {},
   "outputs": [
    {
     "data": {
      "text/plain": [
       "0"
      ]
     },
     "execution_count": 25,
     "metadata": {},
     "output_type": "execute_result"
    }
   ],
   "source": [
    "df['Product ID'].isna().sum()"
   ]
  },
  {
   "cell_type": "code",
   "execution_count": 26,
   "id": "252fd7ec-a602-49f2-9ccf-7c117484ec78",
   "metadata": {},
   "outputs": [
    {
     "name": "stdout",
     "output_type": "stream",
     "text": [
      "Product Name                                          Product ID     \n",
      "\"While You Were Out\" Message Book, One Form Per Page  OFF-PA-10003424     3\n",
      "#10 Gummed Flap White Envelopes, 100/Box              OFF-EN-10001137     4\n",
      "#10 Self-Seal White Envelopes                         OFF-EN-10002312     4\n",
      "#10 White Business Envelopes,4 1/8 X 9 1/2            OFF-EN-10004483     7\n",
      "#10- 4 1/8\" X 9 1/2\" Recycled Envelopes               OFF-EN-10000461    10\n",
      "                                                                         ..\n",
      "Zebra Gk420T Direct Thermal/Thermal Transfer Printer  TEC-MA-10001695     1\n",
      "Zebra Gx420T Direct Thermal/Thermal Transfer Printer  TEC-MA-10004002     3\n",
      "Zebra Zazzle Fluorescent Highlighters                 OFF-AR-10003560     6\n",
      "Zebra Zm400 Thermal Label Printer                     TEC-MA-10000045     2\n",
      "Zipper Ring Binder Pockets                            OFF-BI-10000145    13\n",
      "Name: count, Length: 1850, dtype: int64\n"
     ]
    }
   ],
   "source": [
    "print(df.groupby('Product Name')['Product ID'].value_counts())"
   ]
  },
  {
   "cell_type": "code",
   "execution_count": 27,
   "id": "b7166456-f4a2-4ed6-a4e7-c1e8105c7a60",
   "metadata": {},
   "outputs": [],
   "source": [
    "df.to_csv('Superstore_clean.csv', index = False, encoding = 'utf-8')"
   ]
  },
  {
   "cell_type": "code",
   "execution_count": null,
   "id": "a4e67ebb-6d94-4b33-bc34-81d9f518795b",
   "metadata": {},
   "outputs": [],
   "source": []
  }
 ],
 "metadata": {
  "kernelspec": {
   "display_name": "Python 3 (ipykernel)",
   "language": "python",
   "name": "python3"
  },
  "language_info": {
   "codemirror_mode": {
    "name": "ipython",
    "version": 3
   },
   "file_extension": ".py",
   "mimetype": "text/x-python",
   "name": "python",
   "nbconvert_exporter": "python",
   "pygments_lexer": "ipython3",
   "version": "3.12.7"
  }
 },
 "nbformat": 4,
 "nbformat_minor": 5
}
